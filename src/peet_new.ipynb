{
 "cells": [
  {
   "cell_type": "code",
   "execution_count": 1,
   "metadata": {},
   "outputs": [],
   "source": [
    "import statsmodels.api as sm\n",
    "import pandas as pd\n",
    "import matplotlib\n",
    "import matplotlib.pyplot as plt\n",
    "import scipy.stats as stats\n",
    "import scipy as sp\n",
    "import numpy as np\n",
    "%matplotlib inline\n",
    "from statsmodels.stats.diagnostic import HetGoldfeldQuandt\n",
    "from statsmodels.stats.outliers_influence import variance_inflation_factor\n",
    "import sklearn as sk\n",
    "from sklearn import datasets\n",
    "from sklearn.linear_model import LassoCV\n",
    "from sklearn.linear_model import Lasso\n",
    "from sklearn.model_selection import KFold\n",
    "from sklearn.model_selection import GridSearchCV\n",
    "from sklearn.model_selection import train_test_split\n",
    "from sklearn.linear_model import Ridge\n",
    "from sklearn.metrics import mean_squared_error\n",
    "from sklearn import preprocessing\n",
    "from sklearn.preprocessing import StandardScaler\n",
    "import seaborn as sns\n",
    "from sklearn.neighbors import KNeighborsRegressor\n",
    "from sklearn.model_selection import KFold\n",
    "from sklearn.model_selection import train_test_split\n",
    "from sklearn.model_selection import cross_val_score\n",
    "from sklearn import model_selection as ms\n",
    "from sklearn import linear_model as lm\n",
    "from sklearn.linear_model import LinearRegression\n",
    "font = {'size'   : 16}\n",
    "matplotlib.rc('font', **font)"
   ]
  },
  {
   "cell_type": "code",
   "execution_count": 2,
   "metadata": {},
   "outputs": [],
   "source": [
    "def read_data():\n",
    "    df = pd.read_csv(\"data/merged_data.csv\")\n",
    "    df.fillna(0, inplace = True)\n",
    "    df.drop(set(df[df[\"HIVdiagnoses\"] == 0].index), axis=0, inplace=True)\n",
    "    cols = [\"HIVdiagnoses\", \"HIVprevalence\", \"PLHIV\", \"Population\"]\n",
    "    X = pd.DataFrame(index=df[\"ADULTMEN\"].index, columns=cols)\n",
    "    for col in cols:\n",
    "        X[col] = df[col]\n",
    "    y = np.array(df[\"HIVincidence\"])\n",
    "    return df, X, y"
   ]
  },
  {
   "cell_type": "code",
   "execution_count": 3,
   "metadata": {},
   "outputs": [],
   "source": [
    "def read_data_new():\n",
    "    df = pd.read_csv(\"data/merged_data.csv\")\n",
    "    df.fillna(0, inplace = True)\n",
    "    df.drop(set(df[df[\"HIVdiagnoses\"] == 0].index), axis=0, inplace=True)\n",
    "    cols = ['HIVdiagnoses', 'HIVprevalence', 'MSM12MTH', 'MSM5YEAR']\n",
    "    X = pd.DataFrame(index=df[\"ADULTMEN\"].index, columns=cols)\n",
    "    for col in cols:\n",
    "        X[col] = df[col]\n",
    "    y = np.array(df[\"HIVincidence\"])\n",
    "    return df, X, y"
   ]
  },
  {
   "cell_type": "code",
   "execution_count": 4,
   "metadata": {},
   "outputs": [],
   "source": [
    "hiv_data, X, y = read_data()"
   ]
  },
  {
   "cell_type": "code",
   "execution_count": 5,
   "metadata": {},
   "outputs": [],
   "source": [
    "hiv_data, Z, y = read_data_new()"
   ]
  },
  {
   "cell_type": "code",
   "execution_count": null,
   "metadata": {},
   "outputs": [],
   "source": [
    "model = sm.OLS(y, Z)\n",
    "results = model.fit()\n",
    "results.summary()"
   ]
  },
  {
   "cell_type": "code",
   "execution_count": null,
   "metadata": {},
   "outputs": [],
   "source": [
    "y_logged = np.log(y)"
   ]
  },
  {
   "cell_type": "code",
   "execution_count": null,
   "metadata": {},
   "outputs": [],
   "source": [
    "model = sm.OLS(y_logged, X)\n",
    "results = model.fit()\n",
    "results.summary()"
   ]
  },
  {
   "cell_type": "code",
   "execution_count": null,
   "metadata": {},
   "outputs": [],
   "source": [
    "model2 = sm.OLS(y_logged, Z)\n",
    "results2 = model2.fit()\n",
    "results2.summary()"
   ]
  },
  {
   "cell_type": "code",
   "execution_count": null,
   "metadata": {},
   "outputs": [],
   "source": [
    "params = results.params\n",
    "params"
   ]
  },
  {
   "cell_type": "code",
   "execution_count": null,
   "metadata": {},
   "outputs": [],
   "source": [
    "params2 = results2.params\n",
    "parmas2"
   ]
  },
  {
   "cell_type": "code",
   "execution_count": null,
   "metadata": {},
   "outputs": [],
   "source": [
    "fig, axs = plt.subplots(5,1, figsize=(8,20))\n",
    "\n",
    "axs[0].scatter(X['HIVdiagnoses'], results.resid)\n",
    "axs[0].hlines(0,\n",
    "              X['HIVdiagnoses'].min(), \n",
    "              X['HIVdiagnoses'].max(), \n",
    "              'k', linestyle='dashed')\n",
    "axs[0].set_xlabel('HIVdiagnoses')\n",
    "axs[0].set_ylabel('residuals');\n",
    "\n",
    "axs[1].scatter(X['HIVprevalence'], results.resid)\n",
    "axs[1].hlines(0,\n",
    "              X['HIVprevalence'].min(), \n",
    "              X['HIVprevalence'].max(), \n",
    "              'k', linestyle='dashed')\n",
    "axs[1].set_xlabel('HIVprevalence')\n",
    "axs[1].set_ylabel('residuals');\n",
    "\n",
    "axs[2].scatter(X['PLHIV'], results.resid)\n",
    "axs[2].hlines(0,\n",
    "              X['PLHIV'].min(), \n",
    "              X['PLHIV'].max(), \n",
    "              'k', linestyle='dashed')\n",
    "axs[2].set_xlabel('PLHIV')\n",
    "axs[2].set_ylabel('residuals');\n",
    "\n",
    "axs[3].scatter(X['Population'], results.resid)\n",
    "axs[3].hlines(0,\n",
    "              X['Population'].min(), \n",
    "              X['Population'].max(), \n",
    "              'k', linestyle='dashed')\n",
    "axs[3].set_xlabel('Population')\n",
    "axs[3].set_ylabel('residuals');\n",
    "\n",
    "\n",
    "axs[4].scatter(results.fittedvalues, results.resid)\n",
    "axs[4].hlines(0,\n",
    "              results.fittedvalues.min(), \n",
    "              results.fittedvalues.max(),\n",
    "              'k', linestyle='dashed')\n",
    "axs[4].set_xlabel('predicted mpg')\n",
    "axs[4].set_ylabel('residuals');"
   ]
  },
  {
   "cell_type": "code",
   "execution_count": null,
   "metadata": {},
   "outputs": [],
   "source": [
    "fig, axs = plt.subplots(5,1, figsize=(8,20))\n",
    "\n",
    "axs[0].scatter(Z['HIVdiagnoses'], results2.resid)\n",
    "axs[0].hlines(0,\n",
    "              Z['HIVdiagnoses'].min(), \n",
    "              Z['HIVdiagnoses'].max(), \n",
    "              'k', linestyle='dashed')\n",
    "axs[0].set_xlabel('HIVdiagnoses')\n",
    "axs[0].set_ylabel('residuals');\n",
    "\n",
    "axs[1].scatter(Z['HIVprevalence'], results2.resid)\n",
    "axs[1].hlines(0,\n",
    "              Z['HIVprevalence'].min(), \n",
    "              Z['HIVprevalence'].max(), \n",
    "              'k', linestyle='dashed')\n",
    "axs[1].set_xlabel('HIVprevalence')\n",
    "axs[1].set_ylabel('residuals');\n",
    "\n",
    "axs[2].scatter(Z['MSM12MTH'], results2.resid)\n",
    "axs[2].hlines(0,\n",
    "              Z['MSM12MTH'].min(), \n",
    "              Z['MSM12MTH'].max(), \n",
    "              'k', linestyle='dashed')\n",
    "axs[2].set_xlabel('MSM12MTH')\n",
    "axs[2].set_ylabel('residuals');\n",
    "\n",
    "axs[3].scatter(Z['MSM5YEAR'], results2.resid)\n",
    "axs[3].hlines(0,\n",
    "              Z['MSM5YEAR'].min(), \n",
    "              Z['MSM5YEAR'].max(), \n",
    "              'k', linestyle='dashed')\n",
    "axs[3].set_xlabel('MSM5YEAR')\n",
    "axs[3].set_ylabel('residuals');\n",
    "\n",
    "\n",
    "axs[4].scatter(results2.fittedvalues, results2.resid)\n",
    "axs[4].hlines(0,\n",
    "              results2.fittedvalues.min(), \n",
    "              results2.fittedvalues.max(),\n",
    "              'k', linestyle='dashed')\n",
    "axs[4].set_xlabel('predicted mpg')\n",
    "axs[4].set_ylabel('residuals');"
   ]
  },
  {
   "cell_type": "code",
   "execution_count": null,
   "metadata": {},
   "outputs": [],
   "source": [
    "f_statistic, p_value, _ = sm.stats.diagnostic.het_goldfeldquandt(y_logged, X, idx=1, alternative='two-sided')\n",
    "print(p_value)"
   ]
  },
  {
   "cell_type": "code",
   "execution_count": null,
   "metadata": {},
   "outputs": [],
   "source": [
    "f_statistic2, p_value2, _ = sm.stats.diagnostic.het_goldfeldquandt(y_logged, Z, idx=1, alternative='two-sided')\n",
    "print(p_value2)"
   ]
  },
  {
   "cell_type": "code",
   "execution_count": null,
   "metadata": {},
   "outputs": [],
   "source": [
    "stud_resids = results.outlier_test()['student_resid']\n"
   ]
  },
  {
   "cell_type": "code",
   "execution_count": null,
   "metadata": {},
   "outputs": [],
   "source": [
    "stud_resids2 = results2.outlier_test()['student_resid']"
   ]
  },
  {
   "cell_type": "code",
   "execution_count": null,
   "metadata": {},
   "outputs": [],
   "source": [
    "ax = sm.graphics.qqplot(stud_resids, line='45')"
   ]
  },
  {
   "cell_type": "code",
   "execution_count": null,
   "metadata": {},
   "outputs": [],
   "source": [
    "X_train, X_test, y_train, y_test = ms.train_test_split(X.values, y_logged, test_size =.25)\n",
    "model = sm.OLS(y_train, X_train)\n",
    "res = model.fit()\n",
    "y_pred = res.predict(X_test)"
   ]
  },
  {
   "cell_type": "code",
   "execution_count": null,
   "metadata": {},
   "outputs": [],
   "source": [
    "r = sp.stats.linregress(y_pred,y_test)\n",
    "r[2]"
   ]
  },
  {
   "cell_type": "code",
   "execution_count": null,
   "metadata": {},
   "outputs": [],
   "source": [
    "X_train2, X_test2, y_train2, y_test2 = ms.train_test_split(Z.values, y_logged, test_size =.25)\n",
    "model2 = sm.OLS(y_train2, X_train2)\n",
    "res2 = model.fit()\n",
    "y_pred2 = res.predict(X_test2)\n",
    "r2 = sp.stats.linregress(y_pred2,y_test2)\n",
    "r2[2]"
   ]
  },
  {
   "cell_type": "code",
   "execution_count": null,
   "metadata": {},
   "outputs": [],
   "source": [
    "reg = LinearRegression(fit_intercept=True).fit(X, y_logged)"
   ]
  },
  {
   "cell_type": "code",
   "execution_count": null,
   "metadata": {},
   "outputs": [],
   "source": [
    "cvr = ms.cross_validate(reg,X,y,cv=20,return_train_score=True)"
   ]
  },
  {
   "cell_type": "code",
   "execution_count": null,
   "metadata": {},
   "outputs": [],
   "source": [
    "print(cvr)"
   ]
  },
  {
   "cell_type": "code",
   "execution_count": null,
   "metadata": {},
   "outputs": [],
   "source": [
    "reg2 = LinearRegression(fit_intercept=True).fit(Z, y_logged)\n",
    "cvr2 = ms.cross_validate(reg,Z,y,cv=20,return_train_score=True)\n",
    "print(cvr2)"
   ]
  },
  {
   "cell_type": "code",
   "execution_count": null,
   "metadata": {},
   "outputs": [],
   "source": [
    "from yellowbrick.regressor import ResidualsPlot"
   ]
  },
  {
   "cell_type": "code",
   "execution_count": null,
   "metadata": {},
   "outputs": [],
   "source": [
    "visualizer = ResidualsPlot(reg)\n",
    "visualizer.fit(X_train, y_train)\n",
    "visualizer.score(X_test, y_test)\n",
    "visualizer.poof() "
   ]
  },
  {
   "cell_type": "code",
   "execution_count": null,
   "metadata": {},
   "outputs": [],
   "source": [
    "visualizer2 = ResidualsPlot(reg2)\n",
    "visualizer2.fit(X_train2, y_train2)\n",
    "visualizer2.score(X_test2, y_test2)\n",
    "visualizer2.poof() "
   ]
  },
  {
   "cell_type": "code",
   "execution_count": null,
   "metadata": {},
   "outputs": [],
   "source": []
  },
  {
   "cell_type": "code",
   "execution_count": null,
   "metadata": {},
   "outputs": [],
   "source": []
  }
 ],
 "metadata": {
  "kernelspec": {
   "display_name": "Python 3",
   "language": "python",
   "name": "python3"
  },
  "language_info": {
   "codemirror_mode": {
    "name": "ipython",
    "version": 3
   },
   "file_extension": ".py",
   "mimetype": "text/x-python",
   "name": "python",
   "nbconvert_exporter": "python",
   "pygments_lexer": "ipython3",
   "version": "3.6.5"
  }
 },
 "nbformat": 4,
 "nbformat_minor": 2
}
