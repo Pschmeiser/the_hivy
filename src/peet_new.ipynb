{
 "cells": [
  {
   "cell_type": "code",
   "execution_count": 1,
   "metadata": {},
   "outputs": [],
   "source": [
    "import statsmodels.api as sm\n",
    "import pandas as pd\n",
    "import matplotlib\n",
    "import matplotlib.pyplot as plt\n",
    "import scipy.stats as stats\n",
    "import scipy as sp\n",
    "import numpy as np\n",
    "%matplotlib inline\n",
    "from statsmodels.stats.diagnostic import HetGoldfeldQuandt\n",
    "from statsmodels.stats.outliers_influence import variance_inflation_factor\n",
    "import sklearn as sk\n",
    "from sklearn import datasets\n",
    "from sklearn.linear_model import LassoCV\n",
    "from sklearn.linear_model import Lasso\n",
    "from sklearn.model_selection import KFold\n",
    "from sklearn.model_selection import GridSearchCV\n",
    "from sklearn.model_selection import train_test_split\n",
    "from sklearn.linear_model import Ridge\n",
    "from sklearn.metrics import mean_squared_error\n",
    "from sklearn import preprocessing\n",
    "from sklearn.preprocessing import StandardScaler\n",
    "import seaborn as sns\n",
    "from sklearn.neighbors import KNeighborsRegressor\n",
    "from sklearn.model_selection import KFold\n",
    "from sklearn.model_selection import train_test_split\n",
    "from sklearn.model_selection import cross_val_score\n",
    "from sklearn import model_selection as ms\n",
    "from sklearn import linear_model as lm\n",
    "from sklearn.linear_model import LinearRegression"
   ]
  },
  {
   "cell_type": "code",
   "execution_count": 2,
   "metadata": {},
   "outputs": [],
   "source": [
    "def read_data():\n",
    "    df = pd.read_csv(\"../data/merged_data.csv\")\n",
    "    df.fillna(0, inplace = True)\n",
    "    df.drop(set(df[df[\"HIVdiagnoses\"] == 0].index), axis=0, inplace=True)\n",
    "    cols = [\"HIVdiagnoses\", \"HIVprevalence\", \"PLHIV\", \"Population\"]\n",
    "    X = pd.DataFrame(index=df[\"ADULTMEN\"].index, columns=cols)\n",
    "    for col in cols:\n",
    "        X[col] = df[col]\n",
    "    y = np.array(df[\"HIVincidence\"])\n",
    "    return df, X, y"
   ]
  },
  {
   "cell_type": "code",
   "execution_count": null,
   "metadata": {},
   "outputs": [],
   "source": []
  },
  {
   "cell_type": "code",
   "execution_count": 3,
   "metadata": {},
   "outputs": [],
   "source": [
    "def read_data_new():\n",
    "    df = pd.read_csv(\"../data/merged_data.csv\")\n",
    "    df.fillna(0, inplace = True)\n",
    "    df.drop(set(df[df[\"HIVdiagnoses\"] == 0].index), axis=0, inplace=True)\n",
    "    cols = ['HIVdiagnoses', 'HIVprevalence', 'MSM12MTH', 'MSM5YEAR']\n",
    "    X = pd.DataFrame(index=df[\"ADULTMEN\"].index, columns=cols)\n",
    "    for col in cols:\n",
    "        X[col] = df[col]\n",
    "    y = np.array(df[\"HIVincidence\"])\n",
    "    return df, X, y"
   ]
  },
  {
   "cell_type": "code",
   "execution_count": 4,
   "metadata": {},
   "outputs": [],
   "source": [
    "hiv_data, X, y = read_data()"
   ]
  },
  {
   "cell_type": "code",
   "execution_count": 5,
   "metadata": {},
   "outputs": [],
   "source": [
    "hiv_data, Z, y = read_data_new()"
   ]
  },
  {
   "cell_type": "code",
   "execution_count": 6,
   "metadata": {},
   "outputs": [
    {
     "data": {
      "text/html": [
       "<table class=\"simpletable\">\n",
       "<caption>OLS Regression Results</caption>\n",
       "<tr>\n",
       "  <th>Dep. Variable:</th>            <td>y</td>        <th>  R-squared:         </th> <td>   0.332</td>\n",
       "</tr>\n",
       "<tr>\n",
       "  <th>Model:</th>                   <td>OLS</td>       <th>  Adj. R-squared:    </th> <td>   0.329</td>\n",
       "</tr>\n",
       "<tr>\n",
       "  <th>Method:</th>             <td>Least Squares</td>  <th>  F-statistic:       </th> <td>   92.44</td>\n",
       "</tr>\n",
       "<tr>\n",
       "  <th>Date:</th>             <td>Fri, 07 Jun 2019</td> <th>  Prob (F-statistic):</th> <td>8.52e-64</td>\n",
       "</tr>\n",
       "<tr>\n",
       "  <th>Time:</th>                 <td>20:05:26</td>     <th>  Log-Likelihood:    </th> <td> -3564.4</td>\n",
       "</tr>\n",
       "<tr>\n",
       "  <th>No. Observations:</th>      <td>   747</td>      <th>  AIC:               </th> <td>   7137.</td>\n",
       "</tr>\n",
       "<tr>\n",
       "  <th>Df Residuals:</th>          <td>   743</td>      <th>  BIC:               </th> <td>   7155.</td>\n",
       "</tr>\n",
       "<tr>\n",
       "  <th>Df Model:</th>              <td>     4</td>      <th>                     </th>     <td> </td>   \n",
       "</tr>\n",
       "<tr>\n",
       "  <th>Covariance Type:</th>      <td>nonrobust</td>    <th>                     </th>     <td> </td>   \n",
       "</tr>\n",
       "</table>\n",
       "<table class=\"simpletable\">\n",
       "<tr>\n",
       "        <td></td>           <th>coef</th>     <th>std err</th>      <th>t</th>      <th>P>|t|</th>  <th>[0.025</th>    <th>0.975]</th>  \n",
       "</tr>\n",
       "<tr>\n",
       "  <th>HIVdiagnoses</th>  <td>    0.0504</td> <td>    0.018</td> <td>    2.732</td> <td> 0.006</td> <td>    0.014</td> <td>    0.087</td>\n",
       "</tr>\n",
       "<tr>\n",
       "  <th>HIVprevalence</th> <td>    0.0465</td> <td>    0.003</td> <td>   15.661</td> <td> 0.000</td> <td>    0.041</td> <td>    0.052</td>\n",
       "</tr>\n",
       "<tr>\n",
       "  <th>MSM12MTH</th>      <td>    4.1338</td> <td>    2.988</td> <td>    1.384</td> <td> 0.167</td> <td>   -1.731</td> <td>    9.999</td>\n",
       "</tr>\n",
       "<tr>\n",
       "  <th>MSM5YEAR</th>      <td>   -2.6746</td> <td>    1.933</td> <td>   -1.384</td> <td> 0.167</td> <td>   -6.469</td> <td>    1.119</td>\n",
       "</tr>\n",
       "</table>\n",
       "<table class=\"simpletable\">\n",
       "<tr>\n",
       "  <th>Omnibus:</th>       <td>1791.275</td> <th>  Durbin-Watson:     </th>  <td>   1.933</td>  \n",
       "</tr>\n",
       "<tr>\n",
       "  <th>Prob(Omnibus):</th>  <td> 0.000</td>  <th>  Jarque-Bera (JB):  </th> <td>9830495.800</td>\n",
       "</tr>\n",
       "<tr>\n",
       "  <th>Skew:</th>           <td>22.059</td>  <th>  Prob(JB):          </th>  <td>    0.00</td>  \n",
       "</tr>\n",
       "<tr>\n",
       "  <th>Kurtosis:</th>       <td>563.261</td> <th>  Cond. No.          </th>  <td>6.33e+04</td>  \n",
       "</tr>\n",
       "</table><br/><br/>Warnings:<br/>[1] Standard Errors assume that the covariance matrix of the errors is correctly specified.<br/>[2] The condition number is large, 6.33e+04. This might indicate that there are<br/>strong multicollinearity or other numerical problems."
      ],
      "text/plain": [
       "<class 'statsmodels.iolib.summary.Summary'>\n",
       "\"\"\"\n",
       "                            OLS Regression Results                            \n",
       "==============================================================================\n",
       "Dep. Variable:                      y   R-squared:                       0.332\n",
       "Model:                            OLS   Adj. R-squared:                  0.329\n",
       "Method:                 Least Squares   F-statistic:                     92.44\n",
       "Date:                Fri, 07 Jun 2019   Prob (F-statistic):           8.52e-64\n",
       "Time:                        20:05:26   Log-Likelihood:                -3564.4\n",
       "No. Observations:                 747   AIC:                             7137.\n",
       "Df Residuals:                     743   BIC:                             7155.\n",
       "Df Model:                           4                                         \n",
       "Covariance Type:            nonrobust                                         \n",
       "=================================================================================\n",
       "                    coef    std err          t      P>|t|      [0.025      0.975]\n",
       "---------------------------------------------------------------------------------\n",
       "HIVdiagnoses      0.0504      0.018      2.732      0.006       0.014       0.087\n",
       "HIVprevalence     0.0465      0.003     15.661      0.000       0.041       0.052\n",
       "MSM12MTH          4.1338      2.988      1.384      0.167      -1.731       9.999\n",
       "MSM5YEAR         -2.6746      1.933     -1.384      0.167      -6.469       1.119\n",
       "==============================================================================\n",
       "Omnibus:                     1791.275   Durbin-Watson:                   1.933\n",
       "Prob(Omnibus):                  0.000   Jarque-Bera (JB):          9830495.800\n",
       "Skew:                          22.059   Prob(JB):                         0.00\n",
       "Kurtosis:                     563.261   Cond. No.                     6.33e+04\n",
       "==============================================================================\n",
       "\n",
       "Warnings:\n",
       "[1] Standard Errors assume that the covariance matrix of the errors is correctly specified.\n",
       "[2] The condition number is large, 6.33e+04. This might indicate that there are\n",
       "strong multicollinearity or other numerical problems.\n",
       "\"\"\""
      ]
     },
     "execution_count": 6,
     "metadata": {},
     "output_type": "execute_result"
    }
   ],
   "source": [
    "model = sm.OLS(y, Z)\n",
    "results = model.fit()\n",
    "results.summary()"
   ]
  },
  {
   "cell_type": "code",
   "execution_count": 7,
   "metadata": {},
   "outputs": [],
   "source": [
    "y_logged = np.log(y)"
   ]
  },
  {
   "cell_type": "code",
   "execution_count": 8,
   "metadata": {},
   "outputs": [
    {
     "data": {
      "text/html": [
       "<table class=\"simpletable\">\n",
       "<caption>OLS Regression Results</caption>\n",
       "<tr>\n",
       "  <th>Dep. Variable:</th>            <td>y</td>        <th>  R-squared:         </th> <td>   0.812</td> \n",
       "</tr>\n",
       "<tr>\n",
       "  <th>Model:</th>                   <td>OLS</td>       <th>  Adj. R-squared:    </th> <td>   0.811</td> \n",
       "</tr>\n",
       "<tr>\n",
       "  <th>Method:</th>             <td>Least Squares</td>  <th>  F-statistic:       </th> <td>   800.0</td> \n",
       "</tr>\n",
       "<tr>\n",
       "  <th>Date:</th>             <td>Fri, 07 Jun 2019</td> <th>  Prob (F-statistic):</th> <td>1.62e-267</td>\n",
       "</tr>\n",
       "<tr>\n",
       "  <th>Time:</th>                 <td>20:05:28</td>     <th>  Log-Likelihood:    </th> <td> -1155.8</td> \n",
       "</tr>\n",
       "<tr>\n",
       "  <th>No. Observations:</th>      <td>   747</td>      <th>  AIC:               </th> <td>   2320.</td> \n",
       "</tr>\n",
       "<tr>\n",
       "  <th>Df Residuals:</th>          <td>   743</td>      <th>  BIC:               </th> <td>   2338.</td> \n",
       "</tr>\n",
       "<tr>\n",
       "  <th>Df Model:</th>              <td>     4</td>      <th>                     </th>     <td> </td>    \n",
       "</tr>\n",
       "<tr>\n",
       "  <th>Covariance Type:</th>      <td>nonrobust</td>    <th>                     </th>     <td> </td>    \n",
       "</tr>\n",
       "</table>\n",
       "<table class=\"simpletable\">\n",
       "<tr>\n",
       "        <td></td>           <th>coef</th>     <th>std err</th>      <th>t</th>      <th>P>|t|</th>  <th>[0.025</th>    <th>0.975]</th>  \n",
       "</tr>\n",
       "<tr>\n",
       "  <th>HIVdiagnoses</th>  <td>    0.0032</td> <td>    0.001</td> <td>    2.766</td> <td> 0.006</td> <td>    0.001</td> <td>    0.006</td>\n",
       "</tr>\n",
       "<tr>\n",
       "  <th>HIVprevalence</th> <td>    0.0058</td> <td>    0.000</td> <td>   47.409</td> <td> 0.000</td> <td>    0.006</td> <td>    0.006</td>\n",
       "</tr>\n",
       "<tr>\n",
       "  <th>PLHIV</th>         <td>   -0.0006</td> <td> 4.01e-05</td> <td>  -14.324</td> <td> 0.000</td> <td>   -0.001</td> <td>   -0.000</td>\n",
       "</tr>\n",
       "<tr>\n",
       "  <th>Population</th>    <td> 2.118e-06</td> <td> 1.33e-07</td> <td>   15.883</td> <td> 0.000</td> <td> 1.86e-06</td> <td> 2.38e-06</td>\n",
       "</tr>\n",
       "</table>\n",
       "<table class=\"simpletable\">\n",
       "<tr>\n",
       "  <th>Omnibus:</th>       <td>493.502</td> <th>  Durbin-Watson:     </th> <td>   1.295</td> \n",
       "</tr>\n",
       "<tr>\n",
       "  <th>Prob(Omnibus):</th> <td> 0.000</td>  <th>  Jarque-Bera (JB):  </th> <td>13985.797</td>\n",
       "</tr>\n",
       "<tr>\n",
       "  <th>Skew:</th>          <td>-2.514</td>  <th>  Prob(JB):          </th> <td>    0.00</td> \n",
       "</tr>\n",
       "<tr>\n",
       "  <th>Kurtosis:</th>      <td>23.593</td>  <th>  Cond. No.          </th> <td>1.96e+04</td> \n",
       "</tr>\n",
       "</table><br/><br/>Warnings:<br/>[1] Standard Errors assume that the covariance matrix of the errors is correctly specified.<br/>[2] The condition number is large, 1.96e+04. This might indicate that there are<br/>strong multicollinearity or other numerical problems."
      ],
      "text/plain": [
       "<class 'statsmodels.iolib.summary.Summary'>\n",
       "\"\"\"\n",
       "                            OLS Regression Results                            \n",
       "==============================================================================\n",
       "Dep. Variable:                      y   R-squared:                       0.812\n",
       "Model:                            OLS   Adj. R-squared:                  0.811\n",
       "Method:                 Least Squares   F-statistic:                     800.0\n",
       "Date:                Fri, 07 Jun 2019   Prob (F-statistic):          1.62e-267\n",
       "Time:                        20:05:28   Log-Likelihood:                -1155.8\n",
       "No. Observations:                 747   AIC:                             2320.\n",
       "Df Residuals:                     743   BIC:                             2338.\n",
       "Df Model:                           4                                         \n",
       "Covariance Type:            nonrobust                                         \n",
       "=================================================================================\n",
       "                    coef    std err          t      P>|t|      [0.025      0.975]\n",
       "---------------------------------------------------------------------------------\n",
       "HIVdiagnoses      0.0032      0.001      2.766      0.006       0.001       0.006\n",
       "HIVprevalence     0.0058      0.000     47.409      0.000       0.006       0.006\n",
       "PLHIV            -0.0006   4.01e-05    -14.324      0.000      -0.001      -0.000\n",
       "Population     2.118e-06   1.33e-07     15.883      0.000    1.86e-06    2.38e-06\n",
       "==============================================================================\n",
       "Omnibus:                      493.502   Durbin-Watson:                   1.295\n",
       "Prob(Omnibus):                  0.000   Jarque-Bera (JB):            13985.797\n",
       "Skew:                          -2.514   Prob(JB):                         0.00\n",
       "Kurtosis:                      23.593   Cond. No.                     1.96e+04\n",
       "==============================================================================\n",
       "\n",
       "Warnings:\n",
       "[1] Standard Errors assume that the covariance matrix of the errors is correctly specified.\n",
       "[2] The condition number is large, 1.96e+04. This might indicate that there are\n",
       "strong multicollinearity or other numerical problems.\n",
       "\"\"\""
      ]
     },
     "execution_count": 8,
     "metadata": {},
     "output_type": "execute_result"
    }
   ],
   "source": [
    "model = sm.OLS(y_logged, X)\n",
    "results = model.fit()\n",
    "results.summary()"
   ]
  },
  {
   "cell_type": "code",
   "execution_count": null,
   "metadata": {},
   "outputs": [],
   "source": [
    "params = results.params\n",
    "params"
   ]
  },
  {
   "cell_type": "code",
   "execution_count": null,
   "metadata": {},
   "outputs": [],
   "source": [
    "fig, axs = plt.subplots(5,1, figsize=(8,20))\n",
    "\n",
    "axs[0].scatter(X['HIVdiagnoses'], results.resid)\n",
    "axs[0].hlines(0,\n",
    "              X['HIVdiagnoses'].min(), \n",
    "              X['HIVdiagnoses'].max(), \n",
    "              'k', linestyle='dashed')\n",
    "axs[0].set_xlabel('HIVdiagnoses')\n",
    "axs[0].set_ylabel('residuals');\n",
    "\n",
    "axs[1].scatter(X['HIVprevalence'], results.resid)\n",
    "axs[1].hlines(0,\n",
    "              X['HIVprevalence'].min(), \n",
    "              X['HIVprevalence'].max(), \n",
    "              'k', linestyle='dashed')\n",
    "axs[1].set_xlabel('HIVprevalence')\n",
    "axs[1].set_ylabel('residuals');\n",
    "\n",
    "axs[2].scatter(X['PLHIV'], results.resid)\n",
    "axs[2].hlines(0,\n",
    "              X['PLHIV'].min(), \n",
    "              X['PLHIV'].max(), \n",
    "              'k', linestyle='dashed')\n",
    "axs[2].set_xlabel('PLHIV')\n",
    "axs[2].set_ylabel('residuals');\n",
    "\n",
    "axs[3].scatter(X['Population'], results.resid)\n",
    "axs[3].hlines(0,\n",
    "              X['Population'].min(), \n",
    "              X['Population'].max(), \n",
    "              'k', linestyle='dashed')\n",
    "axs[3].set_xlabel('Population')\n",
    "axs[3].set_ylabel('residuals');\n",
    "\n",
    "\n",
    "axs[4].scatter(results.fittedvalues, results.resid)\n",
    "axs[4].hlines(0,\n",
    "              results.fittedvalues.min(), \n",
    "              results.fittedvalues.max(),\n",
    "              'k', linestyle='dashed')\n",
    "axs[4].set_xlabel('predicted mpg')\n",
    "axs[4].set_ylabel('residuals');"
   ]
  },
  {
   "cell_type": "code",
   "execution_count": null,
   "metadata": {},
   "outputs": [],
   "source": [
    "f_statistic, p_value, _ = sm.stats.diagnostic.het_goldfeldquandt(y_logged, X, idx=1, alternative='two-sided')\n",
    "print(p_value)"
   ]
  },
  {
   "cell_type": "code",
   "execution_count": null,
   "metadata": {},
   "outputs": [],
   "source": [
    "stud_resids = results.outlier_test()['student_resid']\n"
   ]
  },
  {
   "cell_type": "code",
   "execution_count": null,
   "metadata": {},
   "outputs": [],
   "source": [
    "ax = sm.graphics.qqplot(stud_resids, line='45')"
   ]
  },
  {
   "cell_type": "code",
   "execution_count": null,
   "metadata": {},
   "outputs": [],
   "source": [
    "X_train, X_test, y_train, y_test = ms.train_test_split(X.values, y_logged, test_size =.25)\n",
    "model = sm.OLS(y_train, X_train)\n",
    "res = model.fit()\n",
    "y_pred = res.predict(X_test)"
   ]
  },
  {
   "cell_type": "code",
   "execution_count": null,
   "metadata": {},
   "outputs": [],
   "source": [
    "X_train.shape"
   ]
  },
  {
   "cell_type": "code",
   "execution_count": null,
   "metadata": {},
   "outputs": [],
   "source": [
    "X_test.shape"
   ]
  },
  {
   "cell_type": "code",
   "execution_count": null,
   "metadata": {},
   "outputs": [],
   "source": [
    "r = sp.stats.linregress(y_pred,y_test)\n",
    "r[2]"
   ]
  },
  {
   "cell_type": "code",
   "execution_count": null,
   "metadata": {},
   "outputs": [],
   "source": [
    "reg = LinearRegression(fit_intercept=True).fit(X, y_logged)"
   ]
  },
  {
   "cell_type": "code",
   "execution_count": null,
   "metadata": {},
   "outputs": [],
   "source": [
    "cvr = ms.cross_validate(reg,X,y,cv=20,return_train_score=True)"
   ]
  },
  {
   "cell_type": "code",
   "execution_count": null,
   "metadata": {},
   "outputs": [],
   "source": [
    "print(cvr)"
   ]
  },
  {
   "cell_type": "code",
   "execution_count": null,
   "metadata": {},
   "outputs": [],
   "source": [
    "X_train['Population'].unique()"
   ]
  },
  {
   "cell_type": "code",
   "execution_count": null,
   "metadata": {},
   "outputs": [],
   "source": [
    "from yellowbrick.regressor import ResidualsPlot"
   ]
  },
  {
   "cell_type": "code",
   "execution_count": null,
   "metadata": {},
   "outputs": [],
   "source": [
    "visualizer = ResidualsPlot(reg)\n",
    "visualizer.fit(X_train, y_train)\n",
    "visualizer.score(X_test, y_test)\n",
    "visualizer.poof() "
   ]
  },
  {
   "cell_type": "code",
   "execution_count": null,
   "metadata": {},
   "outputs": [],
   "source": []
  }
 ],
 "metadata": {
  "kernelspec": {
   "display_name": "Python 3",
   "language": "python",
   "name": "python3"
  },
  "language_info": {
   "codemirror_mode": {
    "name": "ipython",
    "version": 3
   },
   "file_extension": ".py",
   "mimetype": "text/x-python",
   "name": "python",
   "nbconvert_exporter": "python",
   "pygments_lexer": "ipython3",
   "version": "3.7.3"
  }
 },
 "nbformat": 4,
 "nbformat_minor": 2
}
